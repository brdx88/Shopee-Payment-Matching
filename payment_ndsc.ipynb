{
  "nbformat": 4,
  "nbformat_minor": 0,
  "metadata": {
    "colab": {
      "name": "payment_ndsc3.ipynb",
      "provenance": []
    },
    "kernelspec": {
      "name": "python3",
      "display_name": "Python 3"
    },
    "accelerator": "TPU"
  },
  "cells": [
    {
      "cell_type": "markdown",
      "metadata": {
        "id": "yC6iWdubIxT2"
      },
      "source": [
        "# Payment Matching\n",
        "At Shopee, bank transfer is a payment method in most countries. When a buyer chooses to place an order using bank transfer, he/she is supposed to make the transfer within 2 days after he/she places the order.\n",
        "\n",
        "After he/she makes the transfer, Shopee will receive a bank statement from the bank and Shopee needs to compare and match the bank statement with the checkout information in order to confirm that this particular order has been paid. This process is called payment matching.\n",
        "\n",
        "Two criteria need to be met in order to match a bank statement with a checkout:\n",
        "- Amount match: Statement amount equals checkout amount.\n",
        "- Name match: Statement description “matches” checkout buyer name (Note: statement description usually contains buyer name)\n",
        "\n",
        "A proper match occurs when both the amount and the name matches on both bank statement and checkout list."
      ]
    },
    {
      "cell_type": "markdown",
      "metadata": {
        "id": "7r7SKaQISt8_"
      },
      "source": [
        "# Preparation of the Dataset"
      ]
    },
    {
      "cell_type": "code",
      "metadata": {
        "id": "13otSpPHTQMP",
        "colab": {
          "base_uri": "https://localhost:8080/"
        },
        "outputId": "4678cf77-266e-432a-a062-5fd7d09a7227"
      },
      "source": [
        "import pandas as pd\n",
        "import numpy as np\n",
        "import matplotlib.pyplot as plt\n",
        "import seaborn as sns\n",
        "\n",
        "!pip install fuzzywuzzy\n",
        "\n",
        "import warnings\n",
        "warnings.filterwarnings('ignore')\n",
        "\n",
        "import re\n",
        "from fuzzywuzzy import fuzz"
      ],
      "execution_count": 1,
      "outputs": [
        {
          "output_type": "stream",
          "text": [
            "Requirement already satisfied: fuzzywuzzy in /usr/local/lib/python3.6/dist-packages (0.18.0)\n"
          ],
          "name": "stdout"
        }
      ]
    },
    {
      "cell_type": "code",
      "metadata": {
        "id": "XZLlx0L-TzIv"
      },
      "source": [
        "bank = pd.read_csv('/content/drive/MyDrive/Datasets/NDSC/bank_statement.csv')\n",
        "check = pd.read_csv('/content/drive/MyDrive/Datasets/NDSC/checkout.csv')"
      ],
      "execution_count": 2,
      "outputs": []
    },
    {
      "cell_type": "code",
      "metadata": {
        "colab": {
          "base_uri": "https://localhost:8080/",
          "height": 204
        },
        "id": "mP_AXWwRIWgA",
        "outputId": "abe4631f-deff-4d36-8640-4c335e3693e0"
      },
      "source": [
        "bank.head()"
      ],
      "execution_count": 3,
      "outputs": [
        {
          "output_type": "execute_result",
          "data": {
            "text/html": [
              "<div>\n",
              "<style scoped>\n",
              "    .dataframe tbody tr th:only-of-type {\n",
              "        vertical-align: middle;\n",
              "    }\n",
              "\n",
              "    .dataframe tbody tr th {\n",
              "        vertical-align: top;\n",
              "    }\n",
              "\n",
              "    .dataframe thead th {\n",
              "        text-align: right;\n",
              "    }\n",
              "</style>\n",
              "<table border=\"1\" class=\"dataframe\">\n",
              "  <thead>\n",
              "    <tr style=\"text-align: right;\">\n",
              "      <th></th>\n",
              "      <th>stmt_id</th>\n",
              "      <th>stmt_amount</th>\n",
              "      <th>desc</th>\n",
              "    </tr>\n",
              "  </thead>\n",
              "  <tbody>\n",
              "    <tr>\n",
              "      <th>0</th>\n",
              "      <td>1</td>\n",
              "      <td>100.00</td>\n",
              "      <td>INSTANT TRANSFER    BAW CGANBAWI YIWHI * LEZC ...</td>\n",
              "    </tr>\n",
              "    <tr>\n",
              "      <th>1</th>\n",
              "      <td>2</td>\n",
              "      <td>23.77</td>\n",
              "      <td>WOOG CARIZA NIWSI YO</td>\n",
              "    </tr>\n",
              "    <tr>\n",
              "      <th>2</th>\n",
              "      <td>3</td>\n",
              "      <td>18.00</td>\n",
              "      <td>ZOMAZAW MABIX ATMA *  BUGW * KZBUGW - TRANSFER...</td>\n",
              "    </tr>\n",
              "    <tr>\n",
              "      <th>3</th>\n",
              "      <td>4</td>\n",
              "      <td>21.87</td>\n",
              "      <td>TRANSFER GO LA/FA   AHHA PUYIMA        * YEBF ...</td>\n",
              "    </tr>\n",
              "    <tr>\n",
              "      <th>4</th>\n",
              "      <td>5</td>\n",
              "      <td>53.68</td>\n",
              "      <td>INSTANT TRANSFER    FABZUN WIQAT JIW FA* TEGF ...</td>\n",
              "    </tr>\n",
              "  </tbody>\n",
              "</table>\n",
              "</div>"
            ],
            "text/plain": [
              "   stmt_id  stmt_amount                                               desc\n",
              "0        1       100.00  INSTANT TRANSFER    BAW CGANBAWI YIWHI * LEZC ...\n",
              "1        2        23.77                              WOOG CARIZA NIWSI YO \n",
              "2        3        18.00  ZOMAZAW MABIX ATMA *  BUGW * KZBUGW - TRANSFER...\n",
              "3        4        21.87  TRANSFER GO LA/FA   AHHA PUYIMA        * YEBF ...\n",
              "4        5        53.68  INSTANT TRANSFER    FABZUN WIQAT JIW FA* TEGF ..."
            ]
          },
          "metadata": {
            "tags": []
          },
          "execution_count": 3
        }
      ]
    },
    {
      "cell_type": "code",
      "metadata": {
        "id": "NwtZP0QcyaGY",
        "colab": {
          "base_uri": "https://localhost:8080/"
        },
        "outputId": "af6b3f3d-db5e-40ee-e397-2be90ae198dc"
      },
      "source": [
        "print(f\"This dataset contains {bank.shape[0]} rows and {bank.shape[1]} columns.\")"
      ],
      "execution_count": 4,
      "outputs": [
        {
          "output_type": "stream",
          "text": [
            "This dataset contains 240000 rows and 3 columns.\n"
          ],
          "name": "stdout"
        }
      ]
    },
    {
      "cell_type": "code",
      "metadata": {
        "id": "XosfIvr9qXiG",
        "colab": {
          "base_uri": "https://localhost:8080/",
          "height": 204
        },
        "outputId": "842e7dc6-1aa6-413c-e498-37ab9af79e5e"
      },
      "source": [
        "check.head()"
      ],
      "execution_count": 5,
      "outputs": [
        {
          "output_type": "execute_result",
          "data": {
            "text/html": [
              "<div>\n",
              "<style scoped>\n",
              "    .dataframe tbody tr th:only-of-type {\n",
              "        vertical-align: middle;\n",
              "    }\n",
              "\n",
              "    .dataframe tbody tr th {\n",
              "        vertical-align: top;\n",
              "    }\n",
              "\n",
              "    .dataframe thead th {\n",
              "        text-align: right;\n",
              "    }\n",
              "</style>\n",
              "<table border=\"1\" class=\"dataframe\">\n",
              "  <thead>\n",
              "    <tr style=\"text-align: right;\">\n",
              "      <th></th>\n",
              "      <th>ckt_id</th>\n",
              "      <th>ckt_amount</th>\n",
              "      <th>buyer_name</th>\n",
              "    </tr>\n",
              "  </thead>\n",
              "  <tbody>\n",
              "    <tr>\n",
              "      <th>0</th>\n",
              "      <td>1</td>\n",
              "      <td>20.00</td>\n",
              "      <td>SAVMUEJICE EPHOCP</td>\n",
              "    </tr>\n",
              "    <tr>\n",
              "      <th>1</th>\n",
              "      <td>2</td>\n",
              "      <td>14.91</td>\n",
              "      <td>LUHALLAK ZGANFAP HAIQAW VIP LOHK. CIQTI</td>\n",
              "    </tr>\n",
              "    <tr>\n",
              "      <th>2</th>\n",
              "      <td>3</td>\n",
              "      <td>13.20</td>\n",
              "      <td>SUQ UNAISIE</td>\n",
              "    </tr>\n",
              "    <tr>\n",
              "      <th>3</th>\n",
              "      <td>4</td>\n",
              "      <td>36.90</td>\n",
              "      <td>GOZK BIHKAUT LIV LATAPI</td>\n",
              "    </tr>\n",
              "    <tr>\n",
              "      <th>4</th>\n",
              "      <td>7</td>\n",
              "      <td>26.29</td>\n",
              "      <td>HUY ZABIRAN HATIZAN WIHMI IRYIZ</td>\n",
              "    </tr>\n",
              "  </tbody>\n",
              "</table>\n",
              "</div>"
            ],
            "text/plain": [
              "   ckt_id  ckt_amount                               buyer_name\n",
              "0       1       20.00                        SAVMUEJICE EPHOCP\n",
              "1       2       14.91  LUHALLAK ZGANFAP HAIQAW VIP LOHK. CIQTI\n",
              "2       3       13.20                              SUQ UNAISIE\n",
              "3       4       36.90                  GOZK BIHKAUT LIV LATAPI\n",
              "4       7       26.29         HUY ZABIRAN HATIZAN WIHMI IRYIZ "
            ]
          },
          "metadata": {
            "tags": []
          },
          "execution_count": 5
        }
      ]
    },
    {
      "cell_type": "code",
      "metadata": {
        "id": "Ujz65JIsIeGd",
        "colab": {
          "base_uri": "https://localhost:8080/"
        },
        "outputId": "4c1c58f6-a6ac-4669-d70c-5f434f86ac33"
      },
      "source": [
        "print(f\"This dataset contains {check.shape[0]} rows and {check.shape[1]} columns.\")"
      ],
      "execution_count": 6,
      "outputs": [
        {
          "output_type": "stream",
          "text": [
            "This dataset contains 240000 rows and 3 columns.\n"
          ],
          "name": "stdout"
        }
      ]
    },
    {
      "cell_type": "markdown",
      "metadata": {
        "id": "K-yOg4zfkKNk"
      },
      "source": [
        "# Removing Unwanted Characters\n",
        "Removing unwanted characters and 'transfer' word on bank_statement."
      ]
    },
    {
      "cell_type": "code",
      "metadata": {
        "id": "UIhU5GbJkI7D"
      },
      "source": [
        "bank['desc']        = bank['desc'].apply(lambda x: re.sub(r\"[^a-zA-Z0-9]+\", ' ', x))\n",
        "check['buyer_name'] = check['buyer_name'].apply(lambda x: re.sub(r\"[^a-zA-Z0-9]+\", ' ', x))\n",
        "bank['desc']        = bank['desc'].apply(lambda x: re.sub(r\"TRANSFER\", ' ', x))\n",
        "check['buyer_name'] = check['buyer_name'].apply(lambda x: re.sub(r\"TRANSFER\", ' ', x))"
      ],
      "execution_count": 7,
      "outputs": []
    },
    {
      "cell_type": "code",
      "metadata": {
        "colab": {
          "base_uri": "https://localhost:8080/",
          "height": 204
        },
        "id": "FalKBuRNkYMS",
        "outputId": "93b43d4d-cf71-4c74-e64b-cca5f2ecbb27"
      },
      "source": [
        "bank.head()"
      ],
      "execution_count": 8,
      "outputs": [
        {
          "output_type": "execute_result",
          "data": {
            "text/html": [
              "<div>\n",
              "<style scoped>\n",
              "    .dataframe tbody tr th:only-of-type {\n",
              "        vertical-align: middle;\n",
              "    }\n",
              "\n",
              "    .dataframe tbody tr th {\n",
              "        vertical-align: top;\n",
              "    }\n",
              "\n",
              "    .dataframe thead th {\n",
              "        text-align: right;\n",
              "    }\n",
              "</style>\n",
              "<table border=\"1\" class=\"dataframe\">\n",
              "  <thead>\n",
              "    <tr style=\"text-align: right;\">\n",
              "      <th></th>\n",
              "      <th>stmt_id</th>\n",
              "      <th>stmt_amount</th>\n",
              "      <th>desc</th>\n",
              "    </tr>\n",
              "  </thead>\n",
              "  <tbody>\n",
              "    <tr>\n",
              "      <th>0</th>\n",
              "      <td>1</td>\n",
              "      <td>100.00</td>\n",
              "      <td>INSTANT   BAW CGANBAWI YIWHI LEZC HXA ZLLEZC F...</td>\n",
              "    </tr>\n",
              "    <tr>\n",
              "      <th>1</th>\n",
              "      <td>2</td>\n",
              "      <td>23.77</td>\n",
              "      <td>WOOG CARIZA NIWSI YO</td>\n",
              "    </tr>\n",
              "    <tr>\n",
              "      <th>2</th>\n",
              "      <td>3</td>\n",
              "      <td>18.00</td>\n",
              "      <td>ZOMAZAW MABIX ATMA BUGW KZBUGW   TO A C</td>\n",
              "    </tr>\n",
              "    <tr>\n",
              "      <th>3</th>\n",
              "      <td>4</td>\n",
              "      <td>21.87</td>\n",
              "      <td>GO LA FA AHHA PUYIMA YEBF GNA BFUNDSYYEBF GNA</td>\n",
              "    </tr>\n",
              "    <tr>\n",
              "      <th>4</th>\n",
              "      <td>5</td>\n",
              "      <td>53.68</td>\n",
              "      <td>INSTANT   FABZUN WIQAT JIW FA TEGF PYA ATTEGF ...</td>\n",
              "    </tr>\n",
              "  </tbody>\n",
              "</table>\n",
              "</div>"
            ],
            "text/plain": [
              "   stmt_id  stmt_amount                                               desc\n",
              "0        1       100.00  INSTANT   BAW CGANBAWI YIWHI LEZC HXA ZLLEZC F...\n",
              "1        2        23.77                              WOOG CARIZA NIWSI YO \n",
              "2        3        18.00            ZOMAZAW MABIX ATMA BUGW KZBUGW   TO A C\n",
              "3        4        21.87     GO LA FA AHHA PUYIMA YEBF GNA BFUNDSYYEBF GNA \n",
              "4        5        53.68  INSTANT   FABZUN WIQAT JIW FA TEGF PYA ATTEGF ..."
            ]
          },
          "metadata": {
            "tags": []
          },
          "execution_count": 8
        }
      ]
    },
    {
      "cell_type": "code",
      "metadata": {
        "colab": {
          "base_uri": "https://localhost:8080/",
          "height": 204
        },
        "id": "7RqCiLhRlChZ",
        "outputId": "07c9ab73-cd15-4209-bb78-fda829f11a1e"
      },
      "source": [
        "check.head()"
      ],
      "execution_count": 9,
      "outputs": [
        {
          "output_type": "execute_result",
          "data": {
            "text/html": [
              "<div>\n",
              "<style scoped>\n",
              "    .dataframe tbody tr th:only-of-type {\n",
              "        vertical-align: middle;\n",
              "    }\n",
              "\n",
              "    .dataframe tbody tr th {\n",
              "        vertical-align: top;\n",
              "    }\n",
              "\n",
              "    .dataframe thead th {\n",
              "        text-align: right;\n",
              "    }\n",
              "</style>\n",
              "<table border=\"1\" class=\"dataframe\">\n",
              "  <thead>\n",
              "    <tr style=\"text-align: right;\">\n",
              "      <th></th>\n",
              "      <th>ckt_id</th>\n",
              "      <th>ckt_amount</th>\n",
              "      <th>buyer_name</th>\n",
              "    </tr>\n",
              "  </thead>\n",
              "  <tbody>\n",
              "    <tr>\n",
              "      <th>0</th>\n",
              "      <td>1</td>\n",
              "      <td>20.00</td>\n",
              "      <td>SAVMUEJICE EPHOCP</td>\n",
              "    </tr>\n",
              "    <tr>\n",
              "      <th>1</th>\n",
              "      <td>2</td>\n",
              "      <td>14.91</td>\n",
              "      <td>LUHALLAK ZGANFAP HAIQAW VIP LOHK CIQTI</td>\n",
              "    </tr>\n",
              "    <tr>\n",
              "      <th>2</th>\n",
              "      <td>3</td>\n",
              "      <td>13.20</td>\n",
              "      <td>SUQ UNAISIE</td>\n",
              "    </tr>\n",
              "    <tr>\n",
              "      <th>3</th>\n",
              "      <td>4</td>\n",
              "      <td>36.90</td>\n",
              "      <td>GOZK BIHKAUT LIV LATAPI</td>\n",
              "    </tr>\n",
              "    <tr>\n",
              "      <th>4</th>\n",
              "      <td>7</td>\n",
              "      <td>26.29</td>\n",
              "      <td>HUY ZABIRAN HATIZAN WIHMI IRYIZ</td>\n",
              "    </tr>\n",
              "  </tbody>\n",
              "</table>\n",
              "</div>"
            ],
            "text/plain": [
              "   ckt_id  ckt_amount                              buyer_name\n",
              "0       1       20.00                       SAVMUEJICE EPHOCP\n",
              "1       2       14.91  LUHALLAK ZGANFAP HAIQAW VIP LOHK CIQTI\n",
              "2       3       13.20                             SUQ UNAISIE\n",
              "3       4       36.90                 GOZK BIHKAUT LIV LATAPI\n",
              "4       7       26.29        HUY ZABIRAN HATIZAN WIHMI IRYIZ "
            ]
          },
          "metadata": {
            "tags": []
          },
          "execution_count": 9
        }
      ]
    },
    {
      "cell_type": "code",
      "metadata": {
        "id": "HiIjQRoGlDN_"
      },
      "source": [
        "# Sorting Values for efficiency and convert the strings to sets for better data structure and better time complexity\n",
        "bank = bank.sort_values(by=['stmt_amount'])\n",
        "check = check.sort_values(by=['ckt_amount'])\n",
        "\n",
        "# Converting the 'description' and 'buyer name' to SET Data Type so there are not duplicate words.\n",
        "bank['desc'] = bank['desc'].apply(lambda x: set(x.split()))\n",
        "check['buyer_name'] = check['buyer_name'].apply(lambda x: set(x.split()))"
      ],
      "execution_count": 10,
      "outputs": []
    },
    {
      "cell_type": "code",
      "metadata": {
        "colab": {
          "base_uri": "https://localhost:8080/",
          "height": 204
        },
        "id": "olOUZ7DGlykX",
        "outputId": "a87a4356-e01e-4ecb-8633-7fc7e4573115"
      },
      "source": [
        "bank.head()"
      ],
      "execution_count": 11,
      "outputs": [
        {
          "output_type": "execute_result",
          "data": {
            "text/html": [
              "<div>\n",
              "<style scoped>\n",
              "    .dataframe tbody tr th:only-of-type {\n",
              "        vertical-align: middle;\n",
              "    }\n",
              "\n",
              "    .dataframe tbody tr th {\n",
              "        vertical-align: top;\n",
              "    }\n",
              "\n",
              "    .dataframe thead th {\n",
              "        text-align: right;\n",
              "    }\n",
              "</style>\n",
              "<table border=\"1\" class=\"dataframe\">\n",
              "  <thead>\n",
              "    <tr style=\"text-align: right;\">\n",
              "      <th></th>\n",
              "      <th>stmt_id</th>\n",
              "      <th>stmt_amount</th>\n",
              "      <th>desc</th>\n",
              "    </tr>\n",
              "  </thead>\n",
              "  <tbody>\n",
              "    <tr>\n",
              "      <th>37740</th>\n",
              "      <td>37741</td>\n",
              "      <td>0.01</td>\n",
              "      <td>{ZIFY, ZAUGAH, BUDABBSHOPEEAW}</td>\n",
              "    </tr>\n",
              "    <tr>\n",
              "      <th>150536</th>\n",
              "      <td>150537</td>\n",
              "      <td>0.01</td>\n",
              "      <td>{AI, FUNDSTYA, A, TO, PIHK, GEPC, PGGEPC, C, T...</td>\n",
              "    </tr>\n",
              "    <tr>\n",
              "      <th>226724</th>\n",
              "      <td>226725</td>\n",
              "      <td>0.01</td>\n",
              "      <td>{WOK, PAQB, PEE}</td>\n",
              "    </tr>\n",
              "    <tr>\n",
              "      <th>230963</th>\n",
              "      <td>230964</td>\n",
              "      <td>0.01</td>\n",
              "      <td>{FAWXANAH, GOFONR, VTVUQINR, WAQIN, VUQINR, NOL}</td>\n",
              "    </tr>\n",
              "    <tr>\n",
              "      <th>115857</th>\n",
              "      <td>115858</td>\n",
              "      <td>0.01</td>\n",
              "      <td>{A, TO, CIBKI, ACP, C, SHOPEE, CLA, BULVIBJ, I...</td>\n",
              "    </tr>\n",
              "  </tbody>\n",
              "</table>\n",
              "</div>"
            ],
            "text/plain": [
              "        stmt_id  stmt_amount                                               desc\n",
              "37740     37741         0.01                     {ZIFY, ZAUGAH, BUDABBSHOPEEAW}\n",
              "150536   150537         0.01  {AI, FUNDSTYA, A, TO, PIHK, GEPC, PGGEPC, C, T...\n",
              "226724   226725         0.01                                   {WOK, PAQB, PEE}\n",
              "230963   230964         0.01   {FAWXANAH, GOFONR, VTVUQINR, WAQIN, VUQINR, NOL}\n",
              "115857   115858         0.01  {A, TO, CIBKI, ACP, C, SHOPEE, CLA, BULVIBJ, I..."
            ]
          },
          "metadata": {
            "tags": []
          },
          "execution_count": 11
        }
      ]
    },
    {
      "cell_type": "code",
      "metadata": {
        "colab": {
          "base_uri": "https://localhost:8080/",
          "height": 204
        },
        "id": "wTwBPMUWlzfJ",
        "outputId": "e63c44d7-5d76-4119-c73c-0cfc04ad405a"
      },
      "source": [
        "check.head()"
      ],
      "execution_count": 12,
      "outputs": [
        {
          "output_type": "execute_result",
          "data": {
            "text/html": [
              "<div>\n",
              "<style scoped>\n",
              "    .dataframe tbody tr th:only-of-type {\n",
              "        vertical-align: middle;\n",
              "    }\n",
              "\n",
              "    .dataframe tbody tr th {\n",
              "        vertical-align: top;\n",
              "    }\n",
              "\n",
              "    .dataframe thead th {\n",
              "        text-align: right;\n",
              "    }\n",
              "</style>\n",
              "<table border=\"1\" class=\"dataframe\">\n",
              "  <thead>\n",
              "    <tr style=\"text-align: right;\">\n",
              "      <th></th>\n",
              "      <th>ckt_id</th>\n",
              "      <th>ckt_amount</th>\n",
              "      <th>buyer_name</th>\n",
              "    </tr>\n",
              "  </thead>\n",
              "  <tbody>\n",
              "    <tr>\n",
              "      <th>77722</th>\n",
              "      <td>106443</td>\n",
              "      <td>0.01</td>\n",
              "      <td>{CIN, RAXVAN, WXAKIH}</td>\n",
              "    </tr>\n",
              "    <tr>\n",
              "      <th>69694</th>\n",
              "      <td>95499</td>\n",
              "      <td>0.01</td>\n",
              "      <td>{ZIDGI, DUX, RAMAXADI, RUWVICWI}</td>\n",
              "    </tr>\n",
              "    <tr>\n",
              "      <th>35591</th>\n",
              "      <td>48817</td>\n",
              "      <td>0.01</td>\n",
              "      <td>{ACP, IBAXILAY, LAYGAB}</td>\n",
              "    </tr>\n",
              "    <tr>\n",
              "      <th>133597</th>\n",
              "      <td>183132</td>\n",
              "      <td>0.01</td>\n",
              "      <td>{BUDABBAW, ZAUGAH, XIH, AXIWIH, ZIFYI}</td>\n",
              "    </tr>\n",
              "    <tr>\n",
              "      <th>167547</th>\n",
              "      <td>229799</td>\n",
              "      <td>0.01</td>\n",
              "      <td>{AI, PIHK, PAHK}</td>\n",
              "    </tr>\n",
              "  </tbody>\n",
              "</table>\n",
              "</div>"
            ],
            "text/plain": [
              "        ckt_id  ckt_amount                              buyer_name\n",
              "77722   106443        0.01                   {CIN, RAXVAN, WXAKIH}\n",
              "69694    95499        0.01        {ZIDGI, DUX, RAMAXADI, RUWVICWI}\n",
              "35591    48817        0.01                 {ACP, IBAXILAY, LAYGAB}\n",
              "133597  183132        0.01  {BUDABBAW, ZAUGAH, XIH, AXIWIH, ZIFYI}\n",
              "167547  229799        0.01                        {AI, PIHK, PAHK}"
            ]
          },
          "metadata": {
            "tags": []
          },
          "execution_count": 12
        }
      ]
    },
    {
      "cell_type": "markdown",
      "metadata": {
        "id": "WnLmeJ81olqo"
      },
      "source": [
        "# 1) Match the Price and Description\n",
        "1. Go through the unique prices one by one\n",
        "2. For each price, query all the bank statements and transactions\n",
        "3. For each transaction, find a bank statement that matches best.\n",
        "4. If the transaction cannot find a fitting bank statement, it will be stored to be processed later using fuzzy search."
      ]
    },
    {
      "cell_type": "code",
      "metadata": {
        "id": "3HQUZVYvl0Gp"
      },
      "source": [
        "# Sorted unique price\n",
        "\n",
        "prices = sorted(list(set(check['ckt_amount'])))"
      ],
      "execution_count": 15,
      "outputs": []
    },
    {
      "cell_type": "code",
      "metadata": {
        "id": "aBbxDSU8otwF"
      },
      "source": [
        "# Match the price & description\n",
        "\n",
        "bs = bank.values.tolist()\n",
        "co = check.values.tolist()\n",
        "\n",
        "curr_bank, curr_trans, pend_bank, pend_trans = [], [], [], []\n",
        "answer = []\n",
        "no_ans_trans, no_ans_bank = [], []\n",
        "\n",
        "for price in prices:\n",
        "    while bs and bs[0][1] == price:\n",
        "        curr_bank.append(bs.pop(0))\n",
        "    while co and co[0][1] == price:\n",
        "        curr_trans.append(co.pop(0))\n",
        "\n",
        "    for trans in curr_trans:\n",
        "        found = False\n",
        "        curname = trans[2]\n",
        "        bk = list(filter(lambda x: x[2].intersection(curname), curr_bank))\n",
        "        if bk:\n",
        "            b = max(bk, key= lambda x: len(x[2].intersection(curname)))\n",
        "            answer.append((trans, b))\n",
        "            curr_bank.remove(b)\n",
        "        else:\n",
        "            no_ans_trans.append(trans)\n",
        "            \n",
        "    no_ans_bank.extend(curr_bank)\n",
        "            \n",
        "    curr_bank, curr_trans = [], []"
      ],
      "execution_count": 32,
      "outputs": []
    },
    {
      "cell_type": "code",
      "metadata": {
        "colab": {
          "base_uri": "https://localhost:8080/",
          "height": 419
        },
        "id": "zw04LxN9wR-V",
        "outputId": "5de66f7d-64de-455e-e2d9-724b7d29a9f8"
      },
      "source": [
        "# Preview the Transactions\n",
        "pd.DataFrame(answer)"
      ],
      "execution_count": 54,
      "outputs": [
        {
          "output_type": "execute_result",
          "data": {
            "text/html": [
              "<div>\n",
              "<style scoped>\n",
              "    .dataframe tbody tr th:only-of-type {\n",
              "        vertical-align: middle;\n",
              "    }\n",
              "\n",
              "    .dataframe tbody tr th {\n",
              "        vertical-align: top;\n",
              "    }\n",
              "\n",
              "    .dataframe thead th {\n",
              "        text-align: right;\n",
              "    }\n",
              "</style>\n",
              "<table border=\"1\" class=\"dataframe\">\n",
              "  <thead>\n",
              "    <tr style=\"text-align: right;\">\n",
              "      <th></th>\n",
              "      <th>0</th>\n",
              "      <th>1</th>\n",
              "    </tr>\n",
              "  </thead>\n",
              "  <tbody>\n",
              "    <tr>\n",
              "      <th>0</th>\n",
              "      <td>[106443, 0.01, {CIN, RAXVAN, WXAKIH}]</td>\n",
              "      <td>[114360, 0.01, {BTA, CIN, GRREGZ, REGZ, FUNDS,...</td>\n",
              "    </tr>\n",
              "    <tr>\n",
              "      <th>1</th>\n",
              "      <td>[95499, 0.01, {ZIDGI, DUX, RAMAXADI, RUWVICWI}]</td>\n",
              "      <td>[201905, 0.01, {DUX, ATOGQ, ZIDGI, RAMAXADI, I...</td>\n",
              "    </tr>\n",
              "    <tr>\n",
              "      <th>2</th>\n",
              "      <td>[48817, 0.01, {ACP, IBAXILAY, LAYGAB}]</td>\n",
              "      <td>[115858, 0.01, {A, TO, CIBKI, ACP, C, SHOPEE, ...</td>\n",
              "    </tr>\n",
              "    <tr>\n",
              "      <th>3</th>\n",
              "      <td>[183132, 0.01, {BUDABBAW, ZAUGAH, XIH, AXIWIH,...</td>\n",
              "      <td>[37741, 0.01, {ZIFY, ZAUGAH, BUDABBSHOPEEAW}]</td>\n",
              "    </tr>\n",
              "    <tr>\n",
              "      <th>4</th>\n",
              "      <td>[229799, 0.01, {AI, PIHK, PAHK}]</td>\n",
              "      <td>[150537, 0.01, {AI, FUNDSTYA, A, TO, PIHK, GEP...</td>\n",
              "    </tr>\n",
              "    <tr>\n",
              "      <th>...</th>\n",
              "      <td>...</td>\n",
              "      <td>...</td>\n",
              "    </tr>\n",
              "    <tr>\n",
              "      <th>235920</th>\n",
              "      <td>[171945, 200.0, {LIJASAWI, POH}]</td>\n",
              "      <td>[136552, 200.0, {IMLO, ATZOGEH, LIJASAWI, ZOGE...</td>\n",
              "    </tr>\n",
              "    <tr>\n",
              "      <th>235921</th>\n",
              "      <td>[179059, 200.0, {JQ, TUYIAV, GAKJAZI}]</td>\n",
              "      <td>[138826, 200.0, {TUYIAV, NIQSVEC, XKTUYIAV, JQ...</td>\n",
              "    </tr>\n",
              "    <tr>\n",
              "      <th>235922</th>\n",
              "      <td>[81122, 200.0, {NKULAGA, QUJUX}]</td>\n",
              "      <td>[55752, 200.0, {SDVEW, DDQW, A, TO, C, QUJUX, ...</td>\n",
              "    </tr>\n",
              "    <tr>\n",
              "      <th>235923</th>\n",
              "      <td>[137964, 200.0, {HADIEAG, SUWASSAH}]</td>\n",
              "      <td>[192222, 200.0, {RAFE, NID, V, DEYYOF, HADIEAG...</td>\n",
              "    </tr>\n",
              "    <tr>\n",
              "      <th>235924</th>\n",
              "      <td>[141444, 200.0, {UTAIGAJ, MEDPU}]</td>\n",
              "      <td>[73877, 200.0, {K, A, UTAIGAJ, NUVL, MEDPU, KT...</td>\n",
              "    </tr>\n",
              "  </tbody>\n",
              "</table>\n",
              "<p>235925 rows × 2 columns</p>\n",
              "</div>"
            ],
            "text/plain": [
              "                                                        0                                                  1\n",
              "0                   [106443, 0.01, {CIN, RAXVAN, WXAKIH}]  [114360, 0.01, {BTA, CIN, GRREGZ, REGZ, FUNDS,...\n",
              "1         [95499, 0.01, {ZIDGI, DUX, RAMAXADI, RUWVICWI}]  [201905, 0.01, {DUX, ATOGQ, ZIDGI, RAMAXADI, I...\n",
              "2                  [48817, 0.01, {ACP, IBAXILAY, LAYGAB}]  [115858, 0.01, {A, TO, CIBKI, ACP, C, SHOPEE, ...\n",
              "3       [183132, 0.01, {BUDABBAW, ZAUGAH, XIH, AXIWIH,...      [37741, 0.01, {ZIFY, ZAUGAH, BUDABBSHOPEEAW}]\n",
              "4                        [229799, 0.01, {AI, PIHK, PAHK}]  [150537, 0.01, {AI, FUNDSTYA, A, TO, PIHK, GEP...\n",
              "...                                                   ...                                                ...\n",
              "235920                   [171945, 200.0, {LIJASAWI, POH}]  [136552, 200.0, {IMLO, ATZOGEH, LIJASAWI, ZOGE...\n",
              "235921             [179059, 200.0, {JQ, TUYIAV, GAKJAZI}]  [138826, 200.0, {TUYIAV, NIQSVEC, XKTUYIAV, JQ...\n",
              "235922                   [81122, 200.0, {NKULAGA, QUJUX}]  [55752, 200.0, {SDVEW, DDQW, A, TO, C, QUJUX, ...\n",
              "235923               [137964, 200.0, {HADIEAG, SUWASSAH}]  [192222, 200.0, {RAFE, NID, V, DEYYOF, HADIEAG...\n",
              "235924                  [141444, 200.0, {UTAIGAJ, MEDPU}]  [73877, 200.0, {K, A, UTAIGAJ, NUVL, MEDPU, KT...\n",
              "\n",
              "[235925 rows x 2 columns]"
            ]
          },
          "metadata": {
            "tags": []
          },
          "execution_count": 54
        }
      ]
    },
    {
      "cell_type": "code",
      "metadata": {
        "colab": {
          "base_uri": "https://localhost:8080/"
        },
        "id": "i3Zri9c7poXE",
        "outputId": "78bf3a4b-1b37-4504-d0e7-5fa2f1aa5b0e"
      },
      "source": [
        "# Number of transaction that does not match\n",
        "print(len(no_ans_bank), len(no_ans_trans))"
      ],
      "execution_count": 36,
      "outputs": [
        {
          "output_type": "stream",
          "text": [
            "4075 4075\n"
          ],
          "name": "stdout"
        }
      ]
    },
    {
      "cell_type": "code",
      "metadata": {
        "colab": {
          "base_uri": "https://localhost:8080/"
        },
        "id": "SPa2FadfrjW2",
        "outputId": "eabe2970-fee6-438a-91e2-4704e051f5ad"
      },
      "source": [
        "no_ans_bank[:5]"
      ],
      "execution_count": 37,
      "outputs": [
        {
          "output_type": "execute_result",
          "data": {
            "text/plain": [
              "[[134561, 0.1, {'AYRIHAW', 'NIMPI', 'SRZB', 'YUQOM', 'ZB'}],\n",
              " [122394, 0.1, {'A', 'C', 'GQ', 'PUJPANIFA', 'SHOPEE', 'TO', 'WAJFAPA'}],\n",
              " [158581, 0.1, {'A', 'AD', 'ALAZJAJHICA', 'DILGI', 'GO', 'NA', 'ZA'}],\n",
              " [9325,\n",
              "  0.11,\n",
              "  {'A', 'B', 'BAIC', 'BJTROB', 'C', 'PALA', 'TO', 'TROB', 'V', 'ZAYTRIJI'}],\n",
              " [145415, 0.11, {'A', 'DA', 'JA', 'KULBAGIFAB', 'VO'}]]"
            ]
          },
          "metadata": {
            "tags": []
          },
          "execution_count": 37
        }
      ]
    },
    {
      "cell_type": "code",
      "metadata": {
        "colab": {
          "base_uri": "https://localhost:8080/"
        },
        "id": "huPzUVbYtcHv",
        "outputId": "a6bd9a1d-f95e-4fc7-b040-0989949cc987"
      },
      "source": [
        "no_ans_trans[:5]"
      ],
      "execution_count": 38,
      "outputs": [
        {
          "output_type": "execute_result",
          "data": {
            "text/plain": [
              "[[309643, 0.1, {'ALA', 'ZJAJHICA'}],\n",
              " [275938, 0.1, {'PANIFA', 'PUJ', 'WAJFAPPA'}],\n",
              " [117315, 0.1, {'AYRIHAWYUQOMB'}],\n",
              " [141553, 0.11, {'BAGIFAB'}],\n",
              " [8350, 0.11, {'PALAZAYTRJI'}]]"
            ]
          },
          "metadata": {
            "tags": []
          },
          "execution_count": 38
        }
      ]
    },
    {
      "cell_type": "markdown",
      "metadata": {
        "id": "rd4ktUBWtqar"
      },
      "source": [
        "# 2) Transactions Which Not Matched (yet)\n",
        "For transaction that does not match, using FuzzyWuzzy."
      ]
    },
    {
      "cell_type": "code",
      "metadata": {
        "id": "CWYQ2sbDte0C"
      },
      "source": [
        "# pick the 'id' only\n",
        "\n",
        "no_id_bank, no_id_trans = [], []\n",
        "for x in range(len(no_ans_bank)):\n",
        "    no_id_bank.append(no_ans_bank[x][0])\n",
        "    no_id_trans.append(no_ans_trans[x][0])"
      ],
      "execution_count": 39,
      "outputs": []
    },
    {
      "cell_type": "code",
      "metadata": {
        "id": "N_hKawfBt49D"
      },
      "source": [
        "# get the subset of the DataFrame that previously has no match\n",
        "\n",
        "check_new = check[check['ckt_id'].isin(no_id_trans)]\n",
        "bank_new = bank[bank['stmt_id'].isin(no_id_bank)]"
      ],
      "execution_count": 42,
      "outputs": []
    },
    {
      "cell_type": "code",
      "metadata": {
        "colab": {
          "base_uri": "https://localhost:8080/",
          "height": 204
        },
        "id": "_h_Bz9LmuUZJ",
        "outputId": "4966caf9-8afd-4f5b-8617-15ec5ff113a7"
      },
      "source": [
        "# bank DataFrame which has no match transaction\n",
        "bank_new.head()"
      ],
      "execution_count": 43,
      "outputs": [
        {
          "output_type": "execute_result",
          "data": {
            "text/html": [
              "<div>\n",
              "<style scoped>\n",
              "    .dataframe tbody tr th:only-of-type {\n",
              "        vertical-align: middle;\n",
              "    }\n",
              "\n",
              "    .dataframe tbody tr th {\n",
              "        vertical-align: top;\n",
              "    }\n",
              "\n",
              "    .dataframe thead th {\n",
              "        text-align: right;\n",
              "    }\n",
              "</style>\n",
              "<table border=\"1\" class=\"dataframe\">\n",
              "  <thead>\n",
              "    <tr style=\"text-align: right;\">\n",
              "      <th></th>\n",
              "      <th>stmt_id</th>\n",
              "      <th>stmt_amount</th>\n",
              "      <th>desc</th>\n",
              "    </tr>\n",
              "  </thead>\n",
              "  <tbody>\n",
              "    <tr>\n",
              "      <th>134560</th>\n",
              "      <td>134561</td>\n",
              "      <td>0.10</td>\n",
              "      <td>{ZB, YUQOM, NIMPI, SRZB, AYRIHAW}</td>\n",
              "    </tr>\n",
              "    <tr>\n",
              "      <th>122393</th>\n",
              "      <td>122394</td>\n",
              "      <td>0.10</td>\n",
              "      <td>{WAJFAPA, A, TO, GQ, C, SHOPEE, PUJPANIFA}</td>\n",
              "    </tr>\n",
              "    <tr>\n",
              "      <th>158580</th>\n",
              "      <td>158581</td>\n",
              "      <td>0.10</td>\n",
              "      <td>{AD, A, ZA, DILGI, GO, NA, ALAZJAJHICA}</td>\n",
              "    </tr>\n",
              "    <tr>\n",
              "      <th>9324</th>\n",
              "      <td>9325</td>\n",
              "      <td>0.11</td>\n",
              "      <td>{BAIC, A, TO, TROB, V, C, B, BJTROB, ZAYTRIJI,...</td>\n",
              "    </tr>\n",
              "    <tr>\n",
              "      <th>145414</th>\n",
              "      <td>145415</td>\n",
              "      <td>0.11</td>\n",
              "      <td>{VO, A, KULBAGIFAB, DA, JA}</td>\n",
              "    </tr>\n",
              "  </tbody>\n",
              "</table>\n",
              "</div>"
            ],
            "text/plain": [
              "        stmt_id  stmt_amount                                               desc\n",
              "134560   134561         0.10                  {ZB, YUQOM, NIMPI, SRZB, AYRIHAW}\n",
              "122393   122394         0.10         {WAJFAPA, A, TO, GQ, C, SHOPEE, PUJPANIFA}\n",
              "158580   158581         0.10            {AD, A, ZA, DILGI, GO, NA, ALAZJAJHICA}\n",
              "9324       9325         0.11  {BAIC, A, TO, TROB, V, C, B, BJTROB, ZAYTRIJI,...\n",
              "145414   145415         0.11                        {VO, A, KULBAGIFAB, DA, JA}"
            ]
          },
          "metadata": {
            "tags": []
          },
          "execution_count": 43
        }
      ]
    },
    {
      "cell_type": "code",
      "metadata": {
        "colab": {
          "base_uri": "https://localhost:8080/",
          "height": 204
        },
        "id": "_THYhZB4ucHs",
        "outputId": "af11a26e-1382-4b4c-feaf-80e30d09a7ed"
      },
      "source": [
        "# checkout DataFrame which has no match transaction\n",
        "check_new.head()"
      ],
      "execution_count": 45,
      "outputs": [
        {
          "output_type": "execute_result",
          "data": {
            "text/html": [
              "<div>\n",
              "<style scoped>\n",
              "    .dataframe tbody tr th:only-of-type {\n",
              "        vertical-align: middle;\n",
              "    }\n",
              "\n",
              "    .dataframe tbody tr th {\n",
              "        vertical-align: top;\n",
              "    }\n",
              "\n",
              "    .dataframe thead th {\n",
              "        text-align: right;\n",
              "    }\n",
              "</style>\n",
              "<table border=\"1\" class=\"dataframe\">\n",
              "  <thead>\n",
              "    <tr style=\"text-align: right;\">\n",
              "      <th></th>\n",
              "      <th>ckt_id</th>\n",
              "      <th>ckt_amount</th>\n",
              "      <th>buyer_name</th>\n",
              "    </tr>\n",
              "  </thead>\n",
              "  <tbody>\n",
              "    <tr>\n",
              "      <th>225903</th>\n",
              "      <td>309643</td>\n",
              "      <td>0.10</td>\n",
              "      <td>{ALA, ZJAJHICA}</td>\n",
              "    </tr>\n",
              "    <tr>\n",
              "      <th>201280</th>\n",
              "      <td>275938</td>\n",
              "      <td>0.10</td>\n",
              "      <td>{PANIFA, PUJ, WAJFAPPA}</td>\n",
              "    </tr>\n",
              "    <tr>\n",
              "      <th>85648</th>\n",
              "      <td>117315</td>\n",
              "      <td>0.10</td>\n",
              "      <td>{AYRIHAWYUQOMB}</td>\n",
              "    </tr>\n",
              "    <tr>\n",
              "      <th>103356</th>\n",
              "      <td>141553</td>\n",
              "      <td>0.11</td>\n",
              "      <td>{BAGIFAB}</td>\n",
              "    </tr>\n",
              "    <tr>\n",
              "      <th>6114</th>\n",
              "      <td>8350</td>\n",
              "      <td>0.11</td>\n",
              "      <td>{PALAZAYTRJI}</td>\n",
              "    </tr>\n",
              "  </tbody>\n",
              "</table>\n",
              "</div>"
            ],
            "text/plain": [
              "        ckt_id  ckt_amount               buyer_name\n",
              "225903  309643        0.10          {ALA, ZJAJHICA}\n",
              "201280  275938        0.10  {PANIFA, PUJ, WAJFAPPA}\n",
              "85648   117315        0.10          {AYRIHAWYUQOMB}\n",
              "103356  141553        0.11                {BAGIFAB}\n",
              "6114      8350        0.11            {PALAZAYTRJI}"
            ]
          },
          "metadata": {
            "tags": []
          },
          "execution_count": 45
        }
      ]
    },
    {
      "cell_type": "code",
      "metadata": {
        "id": "47KqLg5Uusiq"
      },
      "source": [
        "# Convert to string\n",
        "\n",
        "bank_new['desc'] = bank_new['desc'].apply(lambda x: ' '.join(sorted(list(x))))\n",
        "check_new['buyer_name'] = check_new['buyer_name'].apply(lambda x: ' '.join(sorted(list(x))))"
      ],
      "execution_count": 46,
      "outputs": []
    },
    {
      "cell_type": "code",
      "metadata": {
        "colab": {
          "base_uri": "https://localhost:8080/",
          "height": 204
        },
        "id": "8795Muc_vFlX",
        "outputId": "6c7de076-9a53-4ad2-bc73-31b2942d42f5"
      },
      "source": [
        "check_new.head()"
      ],
      "execution_count": 47,
      "outputs": [
        {
          "output_type": "execute_result",
          "data": {
            "text/html": [
              "<div>\n",
              "<style scoped>\n",
              "    .dataframe tbody tr th:only-of-type {\n",
              "        vertical-align: middle;\n",
              "    }\n",
              "\n",
              "    .dataframe tbody tr th {\n",
              "        vertical-align: top;\n",
              "    }\n",
              "\n",
              "    .dataframe thead th {\n",
              "        text-align: right;\n",
              "    }\n",
              "</style>\n",
              "<table border=\"1\" class=\"dataframe\">\n",
              "  <thead>\n",
              "    <tr style=\"text-align: right;\">\n",
              "      <th></th>\n",
              "      <th>ckt_id</th>\n",
              "      <th>ckt_amount</th>\n",
              "      <th>buyer_name</th>\n",
              "    </tr>\n",
              "  </thead>\n",
              "  <tbody>\n",
              "    <tr>\n",
              "      <th>225903</th>\n",
              "      <td>309643</td>\n",
              "      <td>0.10</td>\n",
              "      <td>ALA ZJAJHICA</td>\n",
              "    </tr>\n",
              "    <tr>\n",
              "      <th>201280</th>\n",
              "      <td>275938</td>\n",
              "      <td>0.10</td>\n",
              "      <td>PANIFA PUJ WAJFAPPA</td>\n",
              "    </tr>\n",
              "    <tr>\n",
              "      <th>85648</th>\n",
              "      <td>117315</td>\n",
              "      <td>0.10</td>\n",
              "      <td>AYRIHAWYUQOMB</td>\n",
              "    </tr>\n",
              "    <tr>\n",
              "      <th>103356</th>\n",
              "      <td>141553</td>\n",
              "      <td>0.11</td>\n",
              "      <td>BAGIFAB</td>\n",
              "    </tr>\n",
              "    <tr>\n",
              "      <th>6114</th>\n",
              "      <td>8350</td>\n",
              "      <td>0.11</td>\n",
              "      <td>PALAZAYTRJI</td>\n",
              "    </tr>\n",
              "  </tbody>\n",
              "</table>\n",
              "</div>"
            ],
            "text/plain": [
              "        ckt_id  ckt_amount           buyer_name\n",
              "225903  309643        0.10         ALA ZJAJHICA\n",
              "201280  275938        0.10  PANIFA PUJ WAJFAPPA\n",
              "85648   117315        0.10        AYRIHAWYUQOMB\n",
              "103356  141553        0.11              BAGIFAB\n",
              "6114      8350        0.11          PALAZAYTRJI"
            ]
          },
          "metadata": {
            "tags": []
          },
          "execution_count": 47
        }
      ]
    },
    {
      "cell_type": "code",
      "metadata": {
        "id": "100nzsIEvHjN"
      },
      "source": [
        "# unique prices for unmatch transaction\n",
        "\n",
        "prices_new = sorted(list(set(check_new['ckt_amount'])))"
      ],
      "execution_count": 48,
      "outputs": []
    },
    {
      "cell_type": "code",
      "metadata": {
        "id": "V3K9G2D3vUUc"
      },
      "source": [
        "bs2, co2 = bank_new.values.tolist(), check_new.values.tolist()\n",
        "\n",
        "curr_bank2, curr_trans2 = [], []\n",
        "answer2 = []\n",
        "\n",
        "for price in prices_new:\n",
        "    while bs2 and bs2[0][1] == price:\n",
        "        curr_bank2.append(bs2.pop(0))\n",
        "    while co2 and co2[0][1] == price:\n",
        "        curr_trans2.append(co2.pop(0))\n",
        "    for trans in curr_trans2:\n",
        "        curname = trans[2]\n",
        "        b = max(curr_bank2, key= lambda x: fuzz.partial_ratio(curname, x[2]))\n",
        "        answer2.append((trans, b))\n",
        "        curr_bank2.remove(b)\n",
        "    curr_bank2, curr_trans2 = [], []"
      ],
      "execution_count": 49,
      "outputs": []
    },
    {
      "cell_type": "code",
      "metadata": {
        "colab": {
          "base_uri": "https://localhost:8080/",
          "height": 419
        },
        "id": "iJ1fYGtKv7WT",
        "outputId": "93c2df55-04cb-4daf-f4e1-32049ccdb30e"
      },
      "source": [
        "# Preview the Transactions\n",
        "pd.DataFrame(answer2)"
      ],
      "execution_count": 53,
      "outputs": [
        {
          "output_type": "execute_result",
          "data": {
            "text/html": [
              "<div>\n",
              "<style scoped>\n",
              "    .dataframe tbody tr th:only-of-type {\n",
              "        vertical-align: middle;\n",
              "    }\n",
              "\n",
              "    .dataframe tbody tr th {\n",
              "        vertical-align: top;\n",
              "    }\n",
              "\n",
              "    .dataframe thead th {\n",
              "        text-align: right;\n",
              "    }\n",
              "</style>\n",
              "<table border=\"1\" class=\"dataframe\">\n",
              "  <thead>\n",
              "    <tr style=\"text-align: right;\">\n",
              "      <th></th>\n",
              "      <th>0</th>\n",
              "      <th>1</th>\n",
              "    </tr>\n",
              "  </thead>\n",
              "  <tbody>\n",
              "    <tr>\n",
              "      <th>0</th>\n",
              "      <td>[309643, 0.1, ALA ZJAJHICA]</td>\n",
              "      <td>[158581, 0.1, A AD ALAZJAJHICA DILGI GO NA ZA]</td>\n",
              "    </tr>\n",
              "    <tr>\n",
              "      <th>1</th>\n",
              "      <td>[275938, 0.1, PANIFA PUJ WAJFAPPA]</td>\n",
              "      <td>[122394, 0.1, A C GQ PUJPANIFA SHOPEE TO WAJFAPA]</td>\n",
              "    </tr>\n",
              "    <tr>\n",
              "      <th>2</th>\n",
              "      <td>[117315, 0.1, AYRIHAWYUQOMB]</td>\n",
              "      <td>[134561, 0.1, AYRIHAW NIMPI SRZB YUQOM ZB]</td>\n",
              "    </tr>\n",
              "    <tr>\n",
              "      <th>3</th>\n",
              "      <td>[141553, 0.11, BAGIFAB]</td>\n",
              "      <td>[145415, 0.11, A DA JA KULBAGIFAB VO]</td>\n",
              "    </tr>\n",
              "    <tr>\n",
              "      <th>4</th>\n",
              "      <td>[8350, 0.11, PALAZAYTRJI]</td>\n",
              "      <td>[9325, 0.11, A B BAIC BJTROB C PALA TO TROB V ...</td>\n",
              "    </tr>\n",
              "    <tr>\n",
              "      <th>...</th>\n",
              "      <td>...</td>\n",
              "      <td>...</td>\n",
              "    </tr>\n",
              "    <tr>\n",
              "      <th>4070</th>\n",
              "      <td>[251960, 198.86, ZAQYIEQAWUGLAQZACI]</td>\n",
              "      <td>[207840, 198.86, A C CUQ KYOGFZK LAQ OGFZK TO ...</td>\n",
              "    </tr>\n",
              "    <tr>\n",
              "      <th>4071</th>\n",
              "      <td>[261405, 200.0, NKOCWSAQQEE]</td>\n",
              "      <td>[210249, 200.0, ASSEXH BFA FUNDSBFA INSTANT NK...</td>\n",
              "    </tr>\n",
              "    <tr>\n",
              "      <th>4072</th>\n",
              "      <td>[304559, 200.0, EHAVAWCUKI]</td>\n",
              "      <td>[31156, 200.0, A C EHA NWOZE TO VAWCUKI ZJNWOZE]</td>\n",
              "    </tr>\n",
              "    <tr>\n",
              "      <th>4073</th>\n",
              "      <td>[153115, 200.0, JULNTAFGIJA]</td>\n",
              "      <td>[11798, 200.0, A GAKATNIA JUL L NFOXXEE NTAFGI...</td>\n",
              "    </tr>\n",
              "    <tr>\n",
              "      <th>4074</th>\n",
              "      <td>[245429, 200.0, NEENOXWDSEXW]</td>\n",
              "      <td>[27941, 200.0, DSEXW DSOGGEJ GLDSOGGEJ NEE NOXW]</td>\n",
              "    </tr>\n",
              "  </tbody>\n",
              "</table>\n",
              "<p>4075 rows × 2 columns</p>\n",
              "</div>"
            ],
            "text/plain": [
              "                                         0                                                  1\n",
              "0              [309643, 0.1, ALA ZJAJHICA]     [158581, 0.1, A AD ALAZJAJHICA DILGI GO NA ZA]\n",
              "1       [275938, 0.1, PANIFA PUJ WAJFAPPA]  [122394, 0.1, A C GQ PUJPANIFA SHOPEE TO WAJFAPA]\n",
              "2             [117315, 0.1, AYRIHAWYUQOMB]         [134561, 0.1, AYRIHAW NIMPI SRZB YUQOM ZB]\n",
              "3                  [141553, 0.11, BAGIFAB]              [145415, 0.11, A DA JA KULBAGIFAB VO]\n",
              "4                [8350, 0.11, PALAZAYTRJI]  [9325, 0.11, A B BAIC BJTROB C PALA TO TROB V ...\n",
              "...                                    ...                                                ...\n",
              "4070  [251960, 198.86, ZAQYIEQAWUGLAQZACI]  [207840, 198.86, A C CUQ KYOGFZK LAQ OGFZK TO ...\n",
              "4071          [261405, 200.0, NKOCWSAQQEE]  [210249, 200.0, ASSEXH BFA FUNDSBFA INSTANT NK...\n",
              "4072           [304559, 200.0, EHAVAWCUKI]   [31156, 200.0, A C EHA NWOZE TO VAWCUKI ZJNWOZE]\n",
              "4073          [153115, 200.0, JULNTAFGIJA]  [11798, 200.0, A GAKATNIA JUL L NFOXXEE NTAFGI...\n",
              "4074         [245429, 200.0, NEENOXWDSEXW]   [27941, 200.0, DSEXW DSOGGEJ GLDSOGGEJ NEE NOXW]\n",
              "\n",
              "[4075 rows x 2 columns]"
            ]
          },
          "metadata": {
            "tags": []
          },
          "execution_count": 53
        }
      ]
    },
    {
      "cell_type": "code",
      "metadata": {
        "id": "J29ne1aFvnRx"
      },
      "source": [
        "# Construct final dataframe\n",
        "fs1 = [(x[0][0], x[1][0]) for x in answer]\n",
        "fs2 = [(x[0][0], x[1][0]) for x in answer2]\n",
        "\n",
        "fs = pd.DataFrame(fs1+fs2)\n",
        "fs.columns=['ckt_id', 'stmt_id']\n",
        "fs=fs[['stmt_id', 'ckt_id']]"
      ],
      "execution_count": 51,
      "outputs": []
    },
    {
      "cell_type": "code",
      "metadata": {
        "colab": {
          "base_uri": "https://localhost:8080/",
          "height": 419
        },
        "id": "5qXmLgFzvx3H",
        "outputId": "bcfa9c2e-7f25-4f62-f17a-5f148b007552"
      },
      "source": [
        "fs"
      ],
      "execution_count": 56,
      "outputs": [
        {
          "output_type": "execute_result",
          "data": {
            "text/html": [
              "<div>\n",
              "<style scoped>\n",
              "    .dataframe tbody tr th:only-of-type {\n",
              "        vertical-align: middle;\n",
              "    }\n",
              "\n",
              "    .dataframe tbody tr th {\n",
              "        vertical-align: top;\n",
              "    }\n",
              "\n",
              "    .dataframe thead th {\n",
              "        text-align: right;\n",
              "    }\n",
              "</style>\n",
              "<table border=\"1\" class=\"dataframe\">\n",
              "  <thead>\n",
              "    <tr style=\"text-align: right;\">\n",
              "      <th></th>\n",
              "      <th>stmt_id</th>\n",
              "      <th>ckt_id</th>\n",
              "    </tr>\n",
              "  </thead>\n",
              "  <tbody>\n",
              "    <tr>\n",
              "      <th>0</th>\n",
              "      <td>114360</td>\n",
              "      <td>106443</td>\n",
              "    </tr>\n",
              "    <tr>\n",
              "      <th>1</th>\n",
              "      <td>201905</td>\n",
              "      <td>95499</td>\n",
              "    </tr>\n",
              "    <tr>\n",
              "      <th>2</th>\n",
              "      <td>115858</td>\n",
              "      <td>48817</td>\n",
              "    </tr>\n",
              "    <tr>\n",
              "      <th>3</th>\n",
              "      <td>37741</td>\n",
              "      <td>183132</td>\n",
              "    </tr>\n",
              "    <tr>\n",
              "      <th>4</th>\n",
              "      <td>150537</td>\n",
              "      <td>229799</td>\n",
              "    </tr>\n",
              "    <tr>\n",
              "      <th>...</th>\n",
              "      <td>...</td>\n",
              "      <td>...</td>\n",
              "    </tr>\n",
              "    <tr>\n",
              "      <th>239995</th>\n",
              "      <td>207840</td>\n",
              "      <td>251960</td>\n",
              "    </tr>\n",
              "    <tr>\n",
              "      <th>239996</th>\n",
              "      <td>210249</td>\n",
              "      <td>261405</td>\n",
              "    </tr>\n",
              "    <tr>\n",
              "      <th>239997</th>\n",
              "      <td>31156</td>\n",
              "      <td>304559</td>\n",
              "    </tr>\n",
              "    <tr>\n",
              "      <th>239998</th>\n",
              "      <td>11798</td>\n",
              "      <td>153115</td>\n",
              "    </tr>\n",
              "    <tr>\n",
              "      <th>239999</th>\n",
              "      <td>27941</td>\n",
              "      <td>245429</td>\n",
              "    </tr>\n",
              "  </tbody>\n",
              "</table>\n",
              "<p>240000 rows × 2 columns</p>\n",
              "</div>"
            ],
            "text/plain": [
              "        stmt_id  ckt_id\n",
              "0        114360  106443\n",
              "1        201905   95499\n",
              "2        115858   48817\n",
              "3         37741  183132\n",
              "4        150537  229799\n",
              "...         ...     ...\n",
              "239995   207840  251960\n",
              "239996   210249  261405\n",
              "239997    31156  304559\n",
              "239998    11798  153115\n",
              "239999    27941  245429\n",
              "\n",
              "[240000 rows x 2 columns]"
            ]
          },
          "metadata": {
            "tags": []
          },
          "execution_count": 56
        }
      ]
    },
    {
      "cell_type": "markdown",
      "metadata": {
        "id": "dbu3lkm6xKLt"
      },
      "source": [
        "# Output the CSV"
      ]
    },
    {
      "cell_type": "code",
      "metadata": {
        "colab": {
          "base_uri": "https://localhost:8080/"
        },
        "id": "ChsJwVrgv5nf",
        "outputId": "0fc04935-beae-4624-cb0b-9045403f764a"
      },
      "source": [
        "# Output CSV\n",
        "print(fs.shape)\n",
        "fs.to_csv('submission.csv', index=False)"
      ],
      "execution_count": 58,
      "outputs": [
        {
          "output_type": "stream",
          "text": [
            "(240000, 2)\n"
          ],
          "name": "stdout"
        }
      ]
    },
    {
      "cell_type": "code",
      "metadata": {
        "id": "ckvQfL6nxL4p"
      },
      "source": [
        ""
      ],
      "execution_count": null,
      "outputs": []
    }
  ]
}